{
 "cells": [
  {
   "cell_type": "code",
   "execution_count": 1,
   "id": "07af4bf7-67e6-428b-815e-a235fd2cfda7",
   "metadata": {},
   "outputs": [
    {
     "name": "stdin",
     "output_type": "stream",
     "text": [
      "Enter your name : Rohan\n",
      "Enter your favorite color : Black\n"
     ]
    },
    {
     "name": "stdout",
     "output_type": "stream",
     "text": [
      "Rohan\n",
      "Black\n"
     ]
    }
   ],
   "source": [
    "name=input(\"Enter your name :\")\n",
    "color=input(\"Enter your favorite color :\")\n",
    "print(name)\n",
    "print(color)"
   ]
  },
  {
   "cell_type": "code",
   "execution_count": 2,
   "id": "cd47ce9f-2181-487c-a7fc-e99e600264d2",
   "metadata": {},
   "outputs": [
    {
     "name": "stdout",
     "output_type": "stream",
     "text": [
      "Sum = 15\n"
     ]
    }
   ],
   "source": [
    "sum=7+8\n",
    "print(\"Sum =\",sum)"
   ]
  },
  {
   "cell_type": "code",
   "execution_count": 4,
   "id": "5d61abcd-dd81-4e2e-8ab2-1affcac75d76",
   "metadata": {},
   "outputs": [
    {
     "name": "stdout",
     "output_type": "stream",
     "text": [
      "Python is fun!\n",
      "Let's learn together.\n"
     ]
    }
   ],
   "source": [
    "print(\"Python is fun!\\nLet's learn together.\")"
   ]
  },
  {
   "cell_type": "code",
   "execution_count": 5,
   "id": "1226614e-010a-4191-aa6e-cd38bd46c43a",
   "metadata": {},
   "outputs": [
    {
     "name": "stdout",
     "output_type": "stream",
     "text": [
      "Result = 54\n"
     ]
    }
   ],
   "source": [
    "prod=6*9\n",
    "print(\"Result =\",prod)"
   ]
  },
  {
   "cell_type": "code",
   "execution_count": 6,
   "id": "c9150a0f-f6a0-4f2c-983c-be5cc6e1a463",
   "metadata": {},
   "outputs": [
    {
     "name": "stdout",
     "output_type": "stream",
     "text": [
      "10 \t 6\n"
     ]
    }
   ],
   "source": [
    "print(5+5,\"\\t\",2*3)"
   ]
  },
  {
   "cell_type": "code",
   "execution_count": 7,
   "id": "e56ca1bc-39a1-4d41-8f93-317f48ab006a",
   "metadata": {},
   "outputs": [
    {
     "name": "stdin",
     "output_type": "stream",
     "text": [
      "Enter your name : Rohan\n"
     ]
    }
   ],
   "source": [
    "A=input(\"Enter your name :\")"
   ]
  },
  {
   "cell_type": "code",
   "execution_count": 8,
   "id": "d3b5ede2-6a7d-4647-afa1-ed65b3b75066",
   "metadata": {},
   "outputs": [
    {
     "name": "stdout",
     "output_type": "stream",
     "text": [
      "Hello  Rohan\n"
     ]
    }
   ],
   "source": [
    "print(\"Hello \",A)"
   ]
  },
  {
   "cell_type": "code",
   "execution_count": 9,
   "id": "3a6236a7-d6b8-4814-b173-f5c0bbb88457",
   "metadata": {},
   "outputs": [
    {
     "name": "stdin",
     "output_type": "stream",
     "text": [
      "Enter your savings : 1000\n",
      "Enter the amount you paid to someone : 300\n"
     ]
    },
    {
     "name": "stdout",
     "output_type": "stream",
     "text": [
      "Savings : 700\n"
     ]
    }
   ],
   "source": [
    "x=int(input(\"Enter your savings :\"))\n",
    "y=int(input(\"Enter the amount you paid to someone :\"))\n",
    "print(\"Savings :\",x-y)"
   ]
  },
  {
   "cell_type": "code",
   "execution_count": 12,
   "id": "ce58ba0c-406e-4a96-921a-d24eb08e69b4",
   "metadata": {},
   "outputs": [
    {
     "name": "stdout",
     "output_type": "stream",
     "text": [
      "A\n",
      "B\n",
      "C\n",
      "D\n",
      "E\n"
     ]
    }
   ],
   "source": [
    "print(\"A\\nB\\nC\\nD\\nE\")"
   ]
  },
  {
   "cell_type": "code",
   "execution_count": 14,
   "id": "8a75b58f-197c-4682-9abe-9cab1b07061e",
   "metadata": {},
   "outputs": [
    {
     "name": "stdin",
     "output_type": "stream",
     "text": [
      "Enter a name : Rohan\n",
      "Enter another name : Raghavan\n"
     ]
    },
    {
     "name": "stdout",
     "output_type": "stream",
     "text": [
      "Rohan  says Hi to  Raghavan\n"
     ]
    }
   ],
   "source": [
    "A=input(\"Enter a name :\")\n",
    "B=input(\"Enter another name :\")\n",
    "print(A,\" says Hi to \",B)"
   ]
  },
  {
   "cell_type": "code",
   "execution_count": 15,
   "id": "9ce7d8d2-af48-47aa-a9f8-ac62e234cb1f",
   "metadata": {},
   "outputs": [
    {
     "name": "stdin",
     "output_type": "stream",
     "text": [
      "Enter a name : Rohan\n",
      "Enter another name : Raghavan\n"
     ]
    },
    {
     "name": "stdout",
     "output_type": "stream",
     "text": [
      "Rohan  says Hi to  Raghavan\n"
     ]
    }
   ],
   "source": [
    "A=input(\"Enter a name :\")\n",
    "B=input(\"Enter another name :\")\n",
    "C=\" says Hi to \"\n",
    "print(A,C,B)"
   ]
  },
  {
   "cell_type": "code",
   "execution_count": null,
   "id": "b1247595-27ba-4776-ae88-106ba7efb4de",
   "metadata": {},
   "outputs": [],
   "source": []
  }
 ],
 "metadata": {
  "kernelspec": {
   "display_name": "Python 3 (ipykernel)",
   "language": "python",
   "name": "python3"
  },
  "language_info": {
   "codemirror_mode": {
    "name": "ipython",
    "version": 3
   },
   "file_extension": ".py",
   "mimetype": "text/x-python",
   "name": "python",
   "nbconvert_exporter": "python",
   "pygments_lexer": "ipython3",
   "version": "3.12.7"
  }
 },
 "nbformat": 4,
 "nbformat_minor": 5
}
